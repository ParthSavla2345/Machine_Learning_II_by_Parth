{
 "cells": [
  {
   "cell_type": "code",
   "execution_count": 23,
   "id": "93e5721e",
   "metadata": {},
   "outputs": [
    {
     "name": "stdout",
     "output_type": "stream",
     "text": [
      "0 1 0\n",
      "1 1 1\n",
      "0 0 0\n",
      "1 0 0\n"
     ]
    }
   ],
   "source": [
    "# importing Python library\n",
    "import numpy as np\n",
    "\n",
    "# define Unit Step Function\n",
    "def unitStep(v):\n",
    "    if v > 1:\n",
    "        return 1\n",
    "    else:\n",
    "        return 0\n",
    "\n",
    "# design Perceptron Model\n",
    "def perceptronModel(x, w, b):\n",
    "    v = np.dot(w, x) + b\n",
    "    y = unitStep(v)\n",
    "    return y\n",
    "\n",
    "# AND Logic Function\n",
    "# w1 = 1, w2 = 1, b = -1.5\n",
    "def AND_logicFunction(x):\n",
    "    w = np.array([1,1])\n",
    "    b = 0\n",
    "    return perceptronModel(x, w, b)\n",
    "\n",
    "# testing the Perceptron Model\n",
    "test1 = np.array([0, 1])\n",
    "test2 = np.array([1, 1])\n",
    "test3 = np.array([0, 0])\n",
    "test4 = np.array([1, 0])\n",
    "\n",
    "print(\"{} {} {}\".format(0, 1, AND_logicFunction(test1)))\n",
    "print(\"{} {} {}\".format(1, 1, AND_logicFunction(test2)))\n",
    "print(\"{} {} {}\".format(0, 0, AND_logicFunction(test3)))\n",
    "print(\"{} {} {}\".format(1, 0, AND_logicFunction(test4)))"
   ]
  },
  {
   "cell_type": "code",
   "execution_count": 24,
   "id": "0ac4567c",
   "metadata": {},
   "outputs": [
    {
     "name": "stdout",
     "output_type": "stream",
     "text": [
      "0 1 1\n",
      "1 1 1\n",
      "0 0 0\n",
      "1 0 1\n"
     ]
    }
   ],
   "source": [
    "def unitStep(v):\n",
    "    if v > 0:\n",
    "        return 1\n",
    "    else:\n",
    "        return 0\n",
    "\n",
    "# design Perceptron Model\n",
    "def perceptronModel(x, w, b):\n",
    "    v = np.dot(w, x) + b\n",
    "    y = unitStep(v)\n",
    "    return y\n",
    "\n",
    "# AND Logic Function\n",
    "# w1 = 1, w2 = 1, b = -1.5\n",
    "def OR_logicFunction(x):\n",
    "    w = np.array([1,1])\n",
    "    b = 0\n",
    "    return perceptronModel(x, w, b)\n",
    "\n",
    "# testing the Perceptron Model\n",
    "test1 = np.array([0, 1])\n",
    "test2 = np.array([1, 1])\n",
    "test3 = np.array([0, 0])\n",
    "test4 = np.array([1, 0])\n",
    "\n",
    "print(\"{} {} {}\".format(0, 1, OR_logicFunction(test1)))\n",
    "print(\"{} {} {}\".format(1, 1, OR_logicFunction(test2)))\n",
    "print(\"{} {} {}\".format(0, 0, OR_logicFunction(test3)))\n",
    "print(\"{} {} {}\".format(1, 0, OR_logicFunction(test4)))"
   ]
  },
  {
   "cell_type": "code",
   "execution_count": 25,
   "id": "54ef681e",
   "metadata": {},
   "outputs": [
    {
     "name": "stdout",
     "output_type": "stream",
     "text": [
      "0 1 1\n",
      "1 1 0\n",
      "0 0 1\n",
      "1 0 1\n"
     ]
    }
   ],
   "source": [
    "def unitStep(v):\n",
    "    if v <= 1:\n",
    "        return 1\n",
    "    else:\n",
    "        return 0\n",
    "\n",
    "# design Perceptron Model\n",
    "def perceptronModel(x, w, b):\n",
    "    v = np.dot(w, x) + b\n",
    "    y = unitStep(v)\n",
    "    return y\n",
    "\n",
    "# NAND Logic Function\n",
    "# w1 = 1, w2 = 1, b = -1.5\n",
    "def NAND_logicFunction(x):\n",
    "    w = np.array([1,1])\n",
    "    b = 0\n",
    "    return perceptronModel(x, w, b)\n",
    "\n",
    "# testing the Perceptron Model\n",
    "test1 = np.array([0, 1])\n",
    "test2 = np.array([1, 1])\n",
    "test3 = np.array([0, 0])\n",
    "test4 = np.array([1, 0])\n",
    "\n",
    "print(\"{} {} {}\".format(0, 1, NAND_logicFunction(test1)))\n",
    "print(\"{} {} {}\".format(1, 1, NAND_logicFunction(test2)))\n",
    "print(\"{} {} {}\".format(0, 0, NAND_logicFunction(test3)))\n",
    "print(\"{} {} {}\".format(1, 0, NAND_logicFunction(test4)))"
   ]
  },
  {
   "cell_type": "code",
   "execution_count": 26,
   "id": "8fbfd371",
   "metadata": {},
   "outputs": [
    {
     "name": "stdout",
     "output_type": "stream",
     "text": [
      "0 1 0\n",
      "1 1 0\n",
      "0 0 1\n",
      "1 0 0\n"
     ]
    }
   ],
   "source": [
    "def unitStep(v):\n",
    "    if v <= 0:\n",
    "        return 1\n",
    "    else:\n",
    "        return 0\n",
    "\n",
    "# design Perceptron Model\n",
    "def perceptronModel(x, w, b):\n",
    "    v = np.dot(w, x) + b\n",
    "    y = unitStep(v)\n",
    "    return y\n",
    "\n",
    "# NOR Logic Function\n",
    "# w1 = 1, w2 = 1, b = -1.5\n",
    "def NOR_logicFunction(x):\n",
    "    w = np.array([1,1])\n",
    "    b = 0\n",
    "    return perceptronModel(x, w, b)\n",
    "\n",
    "# testing the Perceptron Model\n",
    "test1 = np.array([0, 1])\n",
    "test2 = np.array([1, 1])\n",
    "test3 = np.array([0, 0])\n",
    "test4 = np.array([1, 0])\n",
    "\n",
    "print(\"{} {} {}\".format(0, 1, NOR_logicFunction(test1)))\n",
    "print(\"{} {} {}\".format(1, 1, NOR_logicFunction(test2)))\n",
    "print(\"{} {} {}\".format(0, 0, NOR_logicFunction(test3)))\n",
    "print(\"{} {} {}\".format(1, 0, NOR_logicFunction(test4)))"
   ]
  },
  {
   "cell_type": "code",
   "execution_count": 27,
   "id": "e2b7eee1",
   "metadata": {},
   "outputs": [
    {
     "name": "stdout",
     "output_type": "stream",
     "text": [
      "0 1 1\n",
      "1 1 0\n",
      "0 0 0\n",
      "1 0 1\n"
     ]
    }
   ],
   "source": [
    "def unitStep(v):\n",
    "    if v == 1:\n",
    "        return 1\n",
    "    else:\n",
    "        return 0\n",
    "\n",
    "# design Perceptron Model\n",
    "def perceptronModel(x, w, b):\n",
    "    v = np.dot(w, x) + b\n",
    "    y = unitStep(v)\n",
    "    return y\n",
    "\n",
    "# XOR Logic Function\n",
    "# w1 = 1, w2 = 1, b = -1.5\n",
    "def XOR_logicFunction(x):\n",
    "    w = np.array([1,1])\n",
    "    b = 0\n",
    "    return perceptronModel(x, w, b)\n",
    "\n",
    "# testing the Perceptron Model\n",
    "test1 = np.array([0, 1])\n",
    "test2 = np.array([1, 1])\n",
    "test3 = np.array([0, 0])\n",
    "test4 = np.array([1, 0])\n",
    "\n",
    "print(\"{} {} {}\".format(0, 1, XOR_logicFunction(test1)))\n",
    "print(\"{} {} {}\".format(1, 1, XOR_logicFunction(test2)))\n",
    "print(\"{} {} {}\".format(0, 0, XOR_logicFunction(test3)))\n",
    "print(\"{} {} {}\".format(1, 0, XOR_logicFunction(test4)))"
   ]
  },
  {
   "cell_type": "code",
   "execution_count": 29,
   "id": "738f43ec",
   "metadata": {},
   "outputs": [
    {
     "name": "stdout",
     "output_type": "stream",
     "text": [
      "0 1\n",
      "1 0\n"
     ]
    }
   ],
   "source": [
    "def unitStep(v):\n",
    "    if v <= 0:\n",
    "        return 1\n",
    "    else:\n",
    "        return 0\n",
    "\n",
    "# design Perceptron Model\n",
    "def perceptronModel(x, w, b):\n",
    "    v = np.dot(w, x) + b\n",
    "    y = unitStep(v)\n",
    "    return y\n",
    "\n",
    "# NOR Logic Function\n",
    "# w1 = 1, w2 = 1, b = -1.5\n",
    "def NOT_logicFunction(x):\n",
    "    w = 1\n",
    "    b = 0\n",
    "    return perceptronModel(x, w, b)\n",
    "\n",
    "# testing the Perceptron Model\n",
    "test1 = 0\n",
    "test2 = 1\n",
    "\n",
    "\n",
    "print(\"{} {}\".format(0,  NOT_logicFunction(test1)))\n",
    "print(\"{} {}\".format(1,  NOT_logicFunction(test2)))"
   ]
  },
  {
   "cell_type": "code",
   "execution_count": null,
   "id": "a5e9c57b",
   "metadata": {},
   "outputs": [],
   "source": []
  }
 ],
 "metadata": {
  "kernelspec": {
   "display_name": "Python 3",
   "language": "python",
   "name": "python3"
  },
  "language_info": {
   "codemirror_mode": {
    "name": "ipython",
    "version": 3
   },
   "file_extension": ".py",
   "mimetype": "text/x-python",
   "name": "python",
   "nbconvert_exporter": "python",
   "pygments_lexer": "ipython3",
   "version": "3.8.8"
  }
 },
 "nbformat": 4,
 "nbformat_minor": 5
}
