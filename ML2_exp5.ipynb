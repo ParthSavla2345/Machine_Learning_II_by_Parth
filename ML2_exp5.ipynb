{
  "nbformat": 4,
  "nbformat_minor": 0,
  "metadata": {
    "colab": {
      "provenance": []
    },
    "kernelspec": {
      "name": "python3",
      "display_name": "Python 3"
    },
    "language_info": {
      "name": "python"
    }
  },
  "cells": [
    {
      "cell_type": "code",
      "execution_count": 9,
      "metadata": {
        "colab": {
          "base_uri": "https://localhost:8080/"
        },
        "id": "BbO_o60OA0i5",
        "outputId": "b42eea7e-61ff-4f94-a165-1fe271060944"
      },
      "outputs": [
        {
          "output_type": "stream",
          "name": "stdout",
          "text": [
            "Training set shape: (120, 4)\n",
            "Test set shape: (30, 4)\n"
          ]
        }
      ],
      "source": [
        "# a) Load the Iris dataset\n",
        "import numpy as np\n",
        "import pandas as pd\n",
        "from sklearn.model_selection import train_test_split\n",
        "from sklearn.preprocessing import LabelEncoder, StandardScaler\n",
        "from sklearn.datasets import load_iris\n",
        "iris = load_iris()\n",
        "X = iris.data\n",
        "y = iris.target\n",
        "scaler = StandardScaler()\n",
        "y_encoded = np.zeros((y.size, y.max() + 1))\n",
        "y_encoded[np.arange(y.size), y] = 1\n",
        "X_train, X_test, y_train, y_test = train_test_split(X, y_encoded, test_size=0.2, random_state=42)\n",
        "print(\"Training set shape:\", X_train.shape)\n",
        "print(\"Test set shape:\", X_test.shape)"
      ]
    },
    {
      "cell_type": "code",
      "source": [
        "# b) Initialize network parameters (1 hidden layer)\n",
        "input_size = X_train.shape[1]\n",
        "hidden_size = 6\n",
        "output_size = y_train.shape[1]\n",
        "np.random.seed(42)\n",
        "W1 = np.random.randn(input_size, hidden_size)\n",
        "b1 = np.zeros((1, hidden_size))\n",
        "W2 = np.random.randn(hidden_size, output_size)\n",
        "b2 = np.zeros((1, output_size))\n",
        "print(\"Initialized weights and biases.\")"
      ],
      "metadata": {
        "colab": {
          "base_uri": "https://localhost:8080/"
        },
        "id": "2xnUjqWjB5iU",
        "outputId": "4bf1380e-b7e8-483e-93c6-9d4e369d6246"
      },
      "execution_count": 10,
      "outputs": [
        {
          "output_type": "stream",
          "name": "stdout",
          "text": [
            "Initialized weights and biases.\n"
          ]
        }
      ]
    },
    {
      "cell_type": "code",
      "source": [
        "# c) Feedforward, error calculation, and backpropagation functions\n",
        "def sigmoid(x):\n",
        "    return 1 / (1 + np.exp(-x))\n",
        "\n",
        "def sigmoid_derivative(x):\n",
        "    return sigmoid(x) * (1 - sigmoid(x))\n",
        "\n",
        "def feedforward(X, W1, b1, W2, b2):\n",
        "    z1 = np.dot(X, W1) + b1\n",
        "    a1 = sigmoid(z1)\n",
        "    z2 = np.dot(a1, W2) + b2\n",
        "    a2 = sigmoid(z2)\n",
        "    return z1, a1, z2, a2\n",
        "\n",
        "def compute_loss(y_true, y_pred):\n",
        "    return np.mean((y_true - y_pred) ** 2)\n",
        "\n",
        "def backpropagation(X, y_true, z1, a1, z2, a2, W2):\n",
        "    m = y_true.shape[0]\n",
        "    error_output = a2 - y_true\n",
        "    dW2 = np.dot(a1.T, error_output * sigmoid_derivative(z2)) / m\n",
        "    db2 = np.sum(error_output * sigmoid_derivative(z2), axis=0, keepdims=True) / m\n",
        "\n",
        "    error_hidden = np.dot(error_output * sigmoid_derivative(z2), W2.T)\n",
        "    dW1 = np.dot(X.T, error_hidden * sigmoid_derivative(z1)) / m\n",
        "    db1 = np.sum(error_hidden * sigmoid_derivative(z1), axis=0, keepdims=True) / m\n",
        "    return dW1, db1, dW2, db2"
      ],
      "metadata": {
        "id": "CnESaJQwBbhl"
      },
      "execution_count": 11,
      "outputs": []
    },
    {
      "cell_type": "code",
      "source": [
        "# d) Training loop with multiple iterations\n",
        "learning_rate = 0.1\n",
        "epochs = 500\n",
        "loss_history = []\n",
        "\n",
        "for i in range(epochs):\n",
        "    z1, a1, z2, a2 = feedforward(X_train, W1, b1, W2, b2)\n",
        "    loss = compute_loss(y_train, a2)\n",
        "    loss_history.append(loss)\n",
        "    dW1, db1, dW2, db2 = backpropagation(X_train, y_train, z1, a1, z2, a2, W2)\n",
        "    W1 -= learning_rate * dW1\n",
        "    b1 -= learning_rate * db1\n",
        "    W2 -= learning_rate * dW2\n",
        "    b2 -= learning_rate * db2\n",
        "\n",
        "print(\"Training complete.\")\n"
      ],
      "metadata": {
        "colab": {
          "base_uri": "https://localhost:8080/"
        },
        "id": "cJgjqhe5Bbka",
        "outputId": "8edf831b-8c0c-4405-f427-791ecf61dd78"
      },
      "execution_count": 12,
      "outputs": [
        {
          "output_type": "stream",
          "name": "stdout",
          "text": [
            "Training complete.\n"
          ]
        }
      ]
    },
    {
      "cell_type": "code",
      "source": [
        "# e) Weights are updated in the loop above.\n",
        "print(\"Final W1:\\n\", W1)\n",
        "print(\"Final b1:\\n\", b1)\n",
        "print(\"Final W2:\\n\", W2)\n",
        "print(\"Final b2:\\n\", b2)"
      ],
      "metadata": {
        "colab": {
          "base_uri": "https://localhost:8080/"
        },
        "id": "8WfHbvbRBbnS",
        "outputId": "4fd79d63-6c3a-4bc2-e34b-e1b90e393030"
      },
      "execution_count": 13,
      "outputs": [
        {
          "output_type": "stream",
          "name": "stdout",
          "text": [
            "Final W1:\n",
            " [[ 0.49482845  0.42488928  0.16875815  1.52324036  0.32566348 -0.11932766]\n",
            " [ 1.5782564   1.23048574 -0.80553472  0.54230035  0.01035521 -0.42003058]\n",
            " [ 0.240398   -1.89117724 -1.84921329 -0.56202693 -1.01047211  0.38836563]\n",
            " [-0.90865524 -1.444283    1.44587724 -0.22586823  0.02945425 -1.40659415]]\n",
            "Final b1:\n",
            " [[-3.05364295e-04  1.24596193e-01 -9.73594477e-02  4.09770162e-05\n",
            "   1.23949274e-01  2.17351352e-02]]\n",
            "Final W2:\n",
            " [[-0.44226894 -0.20766438 -0.43147863]\n",
            " [ 1.90877507 -1.12845872 -0.69956219]\n",
            " [-0.53804859  1.80966125 -0.02254261]\n",
            " [-0.95591269  0.50440645 -0.50128688]\n",
            " [ 0.41209152 -1.97047999 -1.4200469 ]\n",
            " [ 0.25857151  0.75940916  0.13759523]]\n",
            "Final b2:\n",
            " [[ 0.1013847  -0.31803449  0.719965  ]]\n"
          ]
        }
      ]
    },
    {
      "cell_type": "code",
      "source": [
        "# f) Plot Mean Squared Error and Accuracy\n",
        "import matplotlib.pyplot as plt\n",
        "\n",
        "def compute_accuracy(y_true, y_pred):\n",
        "    correct = np.argmax(y_true, axis=1) == np.argmax(y_pred, axis=1)\n",
        "    return np.mean(correct)\n",
        "\n",
        "accuracy_history = []\n",
        "\n",
        "for i in range(epochs):\n",
        "    _, _, _, a2 = feedforward(X_train, W1, b1, W2, b2)\n",
        "    acc = compute_accuracy(y_train, a2)\n",
        "    accuracy_history.append(acc)\n",
        "\n",
        "plt.figure(figsize=(12, 5))\n",
        "\n",
        "plt.subplot(1, 2, 1)\n",
        "plt.plot(loss_history)\n",
        "plt.title(\"Mean Squared Error\")\n",
        "plt.xlabel(\"Epoch\")\n",
        "plt.ylabel(\"Loss\")\n",
        "\n",
        "plt.subplot(1, 2, 2)\n",
        "plt.plot(accuracy_history)\n",
        "plt.title(\"Training Accuracy\")\n",
        "plt.xlabel(\"Epoch\")\n",
        "plt.ylabel(\"Accuracy\")\n",
        "plt.tight_layout()\n",
        "plt.show()"
      ],
      "metadata": {
        "colab": {
          "base_uri": "https://localhost:8080/",
          "height": 507
        },
        "id": "1JMjeRmhCYeU",
        "outputId": "e09f7e80-a17a-4297-b37f-db232d6dfc35"
      },
      "execution_count": 14,
      "outputs": [
        {
          "output_type": "display_data",
          "data": {
            "text/plain": [
              "<Figure size 1200x500 with 2 Axes>"
            ],
            "image/png": "[encoded data removed]"
          },
          "metadata": {}
        }
      ]
    },
    {
      "cell_type": "code",
      "source": [
        "# g) Accuracy already plotted above\n",
        "final_accuracy = accuracy_history[-1]\n",
        "print(f\"Final Training Accuracy after {epochs} epochs: {final_accuracy * 100:.2f}%\")"
      ],
      "metadata": {
        "colab": {
          "base_uri": "https://localhost:8080/"
        },
        "id": "nVnqC4niCct8",
        "outputId": "b30d29e6-2182-4b13-ad4c-1be964bb39ab"
      },
      "execution_count": 15,
      "outputs": [
        {
          "output_type": "stream",
          "name": "stdout",
          "text": [
            "Final Training Accuracy after 500 epochs: 67.50%\n"
          ]
        }
      ]
    },
    {
      "cell_type": "code",
      "source": [
        "# h) Evaluate on test data\n",
        "_, _, _, test_predictions = feedforward(X_test, W1, b1, W2, b2)\n",
        "test_accuracy = compute_accuracy(y_test, test_predictions)\n",
        "\n",
        "print(f\"Test Accuracy: {test_accuracy * 100:.2f}%\")\n"
      ],
      "metadata": {
        "colab": {
          "base_uri": "https://localhost:8080/"
        },
        "id": "p57i94R7CfG0",
        "outputId": "5f9cbcbb-6fc7-404e-f54b-772a484ad81d"
      },
      "execution_count": 16,
      "outputs": [
        {
          "output_type": "stream",
          "name": "stdout",
          "text": [
            "Test Accuracy: 63.33%\n"
          ]
        }
      ]
    }
  ]
}
